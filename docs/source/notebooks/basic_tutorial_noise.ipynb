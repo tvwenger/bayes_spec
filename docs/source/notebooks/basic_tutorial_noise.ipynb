{
 "cells": [
  {
   "cell_type": "markdown",
   "id": "2a6f87e3-0d3c-4da4-90c6-eb9e00bd1e29",
   "metadata": {},
   "source": [
    "# Basic Tutorial: `GaussNoiseModel`\n",
    "\n",
    "Trey V. Wenger (c) November 2024\n",
    "\n",
    "This notebook is nearly identical to the basic tutorial, except we implement a new model called `GaussNoiseModel`. This model allows the spectral rms to be an inferred parameter. Such is a useful trick for complicated posterior distributions, such as when there are multiple, high signal-to-noise components."
   ]
  },
  {
   "cell_type": "code",
   "execution_count": 1,
   "id": "ed4fe22b-ecee-424a-bcb9-c7b29cfa12f9",
   "metadata": {
    "ExecuteTime": {
     "end_time": "2024-08-05T19:58:46.877399Z",
     "start_time": "2024-08-05T19:58:44.663816Z"
    }
   },
   "outputs": [
    {
     "name": "stdout",
     "output_type": "stream",
     "text": [
      "pymc version: 5.16.2\n",
      "bayes_spec version: 1.7.1\n"
     ]
    }
   ],
   "source": [
    "# General imports    \n",
    "import matplotlib.pyplot as plt\n",
    "import arviz as az\n",
    "import pandas as pd\n",
    "import numpy as np\n",
    "\n",
    "import pymc\n",
    "print(\"pymc version:\", pymc.__version__)\n",
    "\n",
    "import bayes_spec\n",
    "print(\"bayes_spec version:\", bayes_spec.__version__)\n",
    "\n",
    "# Notebook configuration\n",
    "pd.options.display.max_rows = None"
   ]
  },
  {
   "cell_type": "markdown",
   "id": "10a63f40",
   "metadata": {},
   "source": [
    "## Data Format"
   ]
  },
  {
   "cell_type": "code",
   "execution_count": 2,
   "id": "2fe2541d",
   "metadata": {
    "ExecuteTime": {
     "end_time": "2024-08-05T19:58:46.883531Z",
     "start_time": "2024-08-05T19:58:46.879651Z"
    }
   },
   "outputs": [],
   "source": [
    "from bayes_spec import SpecData\n",
    "\n",
    "# spectral axis definition\n",
    "velocity_axis = np.linspace(-250.0, 250.0, 501) # km/s\n",
    "\n",
    "# data noise can either be a scalar (assumed constant noise across the spectrum)\n",
    "# or an array of the same length as the data\n",
    "noise = 1.0 # K\n",
    "\n",
    "# brightness data. In this case, we just throw in some random data for now\n",
    "# since we are only doing this in order to simulate some actual data.\n",
    "brightness_data = noise * np.random.randn(len(velocity_axis)) # K\n",
    "\n",
    "# Our model only expects a single observation named \"observation\"\n",
    "# Note that because we \"named\" the spectrum \"observation\" here,\n",
    "# we must use the same name in the model definition above\n",
    "observation = SpecData(\n",
    "    velocity_axis,\n",
    "    brightness_data,\n",
    "    noise,\n",
    "    xlabel=r\"Velocity (km s$^{-1}$)\",\n",
    "    ylabel=\"Brightness Temperature (K)\",\n",
    ")\n",
    "dummy_data = {\"observation\": observation}"
   ]
  },
  {
   "cell_type": "markdown",
   "id": "e80c3c09",
   "metadata": {},
   "source": [
    "## Simulating Data"
   ]
  },
  {
   "cell_type": "code",
   "execution_count": 3,
   "id": "711c7b91",
   "metadata": {
    "ExecuteTime": {
     "end_time": "2024-08-05T19:58:50.542138Z",
     "start_time": "2024-08-05T19:58:46.885434Z"
    }
   },
   "outputs": [
    {
     "ename": "KeyboardInterrupt",
     "evalue": "",
     "output_type": "error",
     "traceback": [
      "\u001b[0;31m---------------------------------------------------------------------------\u001b[0m",
      "\u001b[0;31mKeyboardInterrupt\u001b[0m                         Traceback (most recent call last)",
      "Cell \u001b[0;32mIn[3], line 14\u001b[0m\n\u001b[1;32m      5\u001b[0m model\u001b[38;5;241m.\u001b[39madd_priors(\n\u001b[1;32m      6\u001b[0m     prior_line_area \u001b[38;5;241m=\u001b[39m \u001b[38;5;241m500.0\u001b[39m, \u001b[38;5;66;03m# mode of k=2 gamma distribution prior on line area (K km s-1)\u001b[39;00m\n\u001b[1;32m      7\u001b[0m     prior_fwhm \u001b[38;5;241m=\u001b[39m \u001b[38;5;241m25.0\u001b[39m, \u001b[38;5;66;03m# mode of k=2 gamma distribution prior on FWHM line width (km s-1)\u001b[39;00m\n\u001b[0;32m   (...)\u001b[0m\n\u001b[1;32m     10\u001b[0m     prior_rms \u001b[38;5;241m=\u001b[39m \u001b[38;5;241m1.0\u001b[39m, \u001b[38;5;66;03m# width of half-normal distribution prior on spectral rms (K)\u001b[39;00m\n\u001b[1;32m     11\u001b[0m )\n\u001b[1;32m     12\u001b[0m model\u001b[38;5;241m.\u001b[39madd_likelihood()\n\u001b[0;32m---> 14\u001b[0m sim_brightness \u001b[38;5;241m=\u001b[39m \u001b[43mmodel\u001b[49m\u001b[38;5;241;43m.\u001b[39;49m\u001b[43mmodel\u001b[49m\u001b[38;5;241;43m.\u001b[39;49m\u001b[43mobservation\u001b[49m\u001b[38;5;241;43m.\u001b[39;49m\u001b[43meval\u001b[49m\u001b[43m(\u001b[49m\u001b[43m{\u001b[49m\n\u001b[1;32m     15\u001b[0m \u001b[43m    \u001b[49m\u001b[38;5;124;43m\"\u001b[39;49m\u001b[38;5;124;43mfwhm\u001b[39;49m\u001b[38;5;124;43m\"\u001b[39;49m\u001b[43m:\u001b[49m\u001b[43m \u001b[49m\u001b[43m[\u001b[49m\u001b[38;5;241;43m25.0\u001b[39;49m\u001b[43m,\u001b[49m\u001b[43m \u001b[49m\u001b[38;5;241;43m40.0\u001b[39;49m\u001b[43m,\u001b[49m\u001b[43m \u001b[49m\u001b[38;5;241;43m35.0\u001b[39;49m\u001b[43m]\u001b[49m\u001b[43m,\u001b[49m\u001b[43m \u001b[49m\u001b[38;5;66;43;03m# FWHM line width (km/s)\u001b[39;49;00m\n\u001b[1;32m     16\u001b[0m \u001b[43m    \u001b[49m\u001b[38;5;124;43m\"\u001b[39;49m\u001b[38;5;124;43mline_area\u001b[39;49m\u001b[38;5;124;43m\"\u001b[39;49m\u001b[43m:\u001b[49m\u001b[43m \u001b[49m\u001b[43m[\u001b[49m\u001b[38;5;241;43m250.0\u001b[39;49m\u001b[43m,\u001b[49m\u001b[43m \u001b[49m\u001b[38;5;241;43m125.0\u001b[39;49m\u001b[43m,\u001b[49m\u001b[43m \u001b[49m\u001b[38;5;241;43m175.0\u001b[39;49m\u001b[43m]\u001b[49m\u001b[43m,\u001b[49m\u001b[43m \u001b[49m\u001b[38;5;66;43;03m# line area (K km/s)\u001b[39;49;00m\n\u001b[1;32m     17\u001b[0m \u001b[43m    \u001b[49m\u001b[38;5;124;43m\"\u001b[39;49m\u001b[38;5;124;43mvelocity\u001b[39;49m\u001b[38;5;124;43m\"\u001b[39;49m\u001b[43m:\u001b[49m\u001b[43m \u001b[49m\u001b[43m[\u001b[49m\u001b[38;5;241;43m-\u001b[39;49m\u001b[38;5;241;43m35.0\u001b[39;49m\u001b[43m,\u001b[49m\u001b[43m \u001b[49m\u001b[38;5;241;43m10.0\u001b[39;49m\u001b[43m,\u001b[49m\u001b[43m \u001b[49m\u001b[38;5;241;43m55.0\u001b[39;49m\u001b[43m]\u001b[49m\u001b[43m,\u001b[49m\u001b[43m \u001b[49m\u001b[38;5;66;43;03m# velocity (km/s)\u001b[39;49;00m\n\u001b[1;32m     18\u001b[0m \u001b[43m    \u001b[49m\u001b[38;5;124;43m\"\u001b[39;49m\u001b[38;5;124;43mbaseline_observation_norm\u001b[39;49m\u001b[38;5;124;43m\"\u001b[39;49m\u001b[43m:\u001b[49m\u001b[43m \u001b[49m\u001b[43m[\u001b[49m\u001b[38;5;241;43m-\u001b[39;49m\u001b[38;5;241;43m0.5\u001b[39;49m\u001b[43m,\u001b[49m\u001b[43m \u001b[49m\u001b[38;5;241;43m-\u001b[39;49m\u001b[38;5;241;43m2.0\u001b[39;49m\u001b[43m,\u001b[49m\u001b[43m \u001b[49m\u001b[38;5;241;43m3.0\u001b[39;49m\u001b[43m]\u001b[49m\u001b[43m,\u001b[49m\u001b[43m \u001b[49m\u001b[38;5;66;43;03m# normalized baseline coefficients\u001b[39;49;00m\n\u001b[1;32m     19\u001b[0m \u001b[43m    \u001b[49m\u001b[38;5;124;43m\"\u001b[39;49m\u001b[38;5;124;43mrms_observation\u001b[39;49m\u001b[38;5;124;43m\"\u001b[39;49m\u001b[43m:\u001b[49m\u001b[43m \u001b[49m\u001b[43mnoise\u001b[49m\u001b[43m,\u001b[49m\u001b[43m \u001b[49m\u001b[38;5;66;43;03m# spectral rms (K)\u001b[39;49;00m\n\u001b[1;32m     20\u001b[0m \u001b[43m}\u001b[49m\u001b[43m)\u001b[49m\n\u001b[1;32m     22\u001b[0m \u001b[38;5;66;03m# Plot the simulated data\u001b[39;00m\n\u001b[1;32m     23\u001b[0m plt\u001b[38;5;241m.\u001b[39mplot(dummy_data[\u001b[38;5;124m\"\u001b[39m\u001b[38;5;124mobservation\u001b[39m\u001b[38;5;124m\"\u001b[39m]\u001b[38;5;241m.\u001b[39mspectral, sim_brightness, \u001b[38;5;124m'\u001b[39m\u001b[38;5;124mk-\u001b[39m\u001b[38;5;124m'\u001b[39m)\n",
      "File \u001b[0;32m~/miniconda3/envs/bayes_spec-dev/lib/python3.12/site-packages/pytensor/graph/basic.py:652\u001b[0m, in \u001b[0;36mVariable.eval\u001b[0;34m(self, inputs_to_values, **kwargs)\u001b[0m\n\u001b[1;32m    649\u001b[0m     fn \u001b[38;5;241m=\u001b[39m \u001b[38;5;28;01mNone\u001b[39;00m\n\u001b[1;32m    651\u001b[0m \u001b[38;5;28;01mif\u001b[39;00m fn \u001b[38;5;129;01mis\u001b[39;00m \u001b[38;5;28;01mNone\u001b[39;00m:\n\u001b[0;32m--> 652\u001b[0m     fn \u001b[38;5;241m=\u001b[39m \u001b[43mfunction\u001b[49m\u001b[43m(\u001b[49m\u001b[43minputs\u001b[49m\u001b[43m,\u001b[49m\u001b[43m \u001b[49m\u001b[38;5;28;43mself\u001b[39;49m\u001b[43m,\u001b[49m\u001b[43m \u001b[49m\u001b[38;5;241;43m*\u001b[39;49m\u001b[38;5;241;43m*\u001b[39;49m\u001b[43mkwargs\u001b[49m\u001b[43m)\u001b[49m\n\u001b[1;32m    653\u001b[0m     \u001b[38;5;28;01mtry\u001b[39;00m:\n\u001b[1;32m    654\u001b[0m         \u001b[38;5;28mself\u001b[39m\u001b[38;5;241m.\u001b[39m_fn_cache[cache_key] \u001b[38;5;241m=\u001b[39m fn\n",
      "File \u001b[0;32m~/miniconda3/envs/bayes_spec-dev/lib/python3.12/site-packages/pytensor/compile/function/__init__.py:318\u001b[0m, in \u001b[0;36mfunction\u001b[0;34m(inputs, outputs, mode, updates, givens, no_default_updates, accept_inplace, name, rebuild_strict, allow_input_downcast, profile, on_unused_input)\u001b[0m\n\u001b[1;32m    312\u001b[0m     fn \u001b[38;5;241m=\u001b[39m orig_function(\n\u001b[1;32m    313\u001b[0m         inputs, outputs, mode\u001b[38;5;241m=\u001b[39mmode, accept_inplace\u001b[38;5;241m=\u001b[39maccept_inplace, name\u001b[38;5;241m=\u001b[39mname\n\u001b[1;32m    314\u001b[0m     )\n\u001b[1;32m    315\u001b[0m \u001b[38;5;28;01melse\u001b[39;00m:\n\u001b[1;32m    316\u001b[0m     \u001b[38;5;66;03m# note: pfunc will also call orig_function -- orig_function is\u001b[39;00m\n\u001b[1;32m    317\u001b[0m     \u001b[38;5;66;03m#      a choke point that all compilation must pass through\u001b[39;00m\n\u001b[0;32m--> 318\u001b[0m     fn \u001b[38;5;241m=\u001b[39m \u001b[43mpfunc\u001b[49m\u001b[43m(\u001b[49m\n\u001b[1;32m    319\u001b[0m \u001b[43m        \u001b[49m\u001b[43mparams\u001b[49m\u001b[38;5;241;43m=\u001b[39;49m\u001b[43minputs\u001b[49m\u001b[43m,\u001b[49m\n\u001b[1;32m    320\u001b[0m \u001b[43m        \u001b[49m\u001b[43moutputs\u001b[49m\u001b[38;5;241;43m=\u001b[39;49m\u001b[43moutputs\u001b[49m\u001b[43m,\u001b[49m\n\u001b[1;32m    321\u001b[0m \u001b[43m        \u001b[49m\u001b[43mmode\u001b[49m\u001b[38;5;241;43m=\u001b[39;49m\u001b[43mmode\u001b[49m\u001b[43m,\u001b[49m\n\u001b[1;32m    322\u001b[0m \u001b[43m        \u001b[49m\u001b[43mupdates\u001b[49m\u001b[38;5;241;43m=\u001b[39;49m\u001b[43mupdates\u001b[49m\u001b[43m,\u001b[49m\n\u001b[1;32m    323\u001b[0m \u001b[43m        \u001b[49m\u001b[43mgivens\u001b[49m\u001b[38;5;241;43m=\u001b[39;49m\u001b[43mgivens\u001b[49m\u001b[43m,\u001b[49m\n\u001b[1;32m    324\u001b[0m \u001b[43m        \u001b[49m\u001b[43mno_default_updates\u001b[49m\u001b[38;5;241;43m=\u001b[39;49m\u001b[43mno_default_updates\u001b[49m\u001b[43m,\u001b[49m\n\u001b[1;32m    325\u001b[0m \u001b[43m        \u001b[49m\u001b[43maccept_inplace\u001b[49m\u001b[38;5;241;43m=\u001b[39;49m\u001b[43maccept_inplace\u001b[49m\u001b[43m,\u001b[49m\n\u001b[1;32m    326\u001b[0m \u001b[43m        \u001b[49m\u001b[43mname\u001b[49m\u001b[38;5;241;43m=\u001b[39;49m\u001b[43mname\u001b[49m\u001b[43m,\u001b[49m\n\u001b[1;32m    327\u001b[0m \u001b[43m        \u001b[49m\u001b[43mrebuild_strict\u001b[49m\u001b[38;5;241;43m=\u001b[39;49m\u001b[43mrebuild_strict\u001b[49m\u001b[43m,\u001b[49m\n\u001b[1;32m    328\u001b[0m \u001b[43m        \u001b[49m\u001b[43mallow_input_downcast\u001b[49m\u001b[38;5;241;43m=\u001b[39;49m\u001b[43mallow_input_downcast\u001b[49m\u001b[43m,\u001b[49m\n\u001b[1;32m    329\u001b[0m \u001b[43m        \u001b[49m\u001b[43mon_unused_input\u001b[49m\u001b[38;5;241;43m=\u001b[39;49m\u001b[43mon_unused_input\u001b[49m\u001b[43m,\u001b[49m\n\u001b[1;32m    330\u001b[0m \u001b[43m        \u001b[49m\u001b[43mprofile\u001b[49m\u001b[38;5;241;43m=\u001b[39;49m\u001b[43mprofile\u001b[49m\u001b[43m,\u001b[49m\n\u001b[1;32m    331\u001b[0m \u001b[43m        \u001b[49m\u001b[43moutput_keys\u001b[49m\u001b[38;5;241;43m=\u001b[39;49m\u001b[43moutput_keys\u001b[49m\u001b[43m,\u001b[49m\n\u001b[1;32m    332\u001b[0m \u001b[43m    \u001b[49m\u001b[43m)\u001b[49m\n\u001b[1;32m    333\u001b[0m \u001b[38;5;28;01mreturn\u001b[39;00m fn\n",
      "File \u001b[0;32m~/miniconda3/envs/bayes_spec-dev/lib/python3.12/site-packages/pytensor/compile/function/pfunc.py:465\u001b[0m, in \u001b[0;36mpfunc\u001b[0;34m(params, outputs, mode, updates, givens, no_default_updates, accept_inplace, name, rebuild_strict, allow_input_downcast, profile, on_unused_input, output_keys, fgraph)\u001b[0m\n\u001b[1;32m    451\u001b[0m     profile \u001b[38;5;241m=\u001b[39m ProfileStats(message\u001b[38;5;241m=\u001b[39mprofile)\n\u001b[1;32m    453\u001b[0m inputs, cloned_outputs \u001b[38;5;241m=\u001b[39m construct_pfunc_ins_and_outs(\n\u001b[1;32m    454\u001b[0m     params,\n\u001b[1;32m    455\u001b[0m     outputs,\n\u001b[0;32m   (...)\u001b[0m\n\u001b[1;32m    462\u001b[0m     fgraph\u001b[38;5;241m=\u001b[39mfgraph,\n\u001b[1;32m    463\u001b[0m )\n\u001b[0;32m--> 465\u001b[0m \u001b[38;5;28;01mreturn\u001b[39;00m \u001b[43morig_function\u001b[49m\u001b[43m(\u001b[49m\n\u001b[1;32m    466\u001b[0m \u001b[43m    \u001b[49m\u001b[43minputs\u001b[49m\u001b[43m,\u001b[49m\n\u001b[1;32m    467\u001b[0m \u001b[43m    \u001b[49m\u001b[43mcloned_outputs\u001b[49m\u001b[43m,\u001b[49m\n\u001b[1;32m    468\u001b[0m \u001b[43m    \u001b[49m\u001b[43mmode\u001b[49m\u001b[43m,\u001b[49m\n\u001b[1;32m    469\u001b[0m \u001b[43m    \u001b[49m\u001b[43maccept_inplace\u001b[49m\u001b[38;5;241;43m=\u001b[39;49m\u001b[43maccept_inplace\u001b[49m\u001b[43m,\u001b[49m\n\u001b[1;32m    470\u001b[0m \u001b[43m    \u001b[49m\u001b[43mname\u001b[49m\u001b[38;5;241;43m=\u001b[39;49m\u001b[43mname\u001b[49m\u001b[43m,\u001b[49m\n\u001b[1;32m    471\u001b[0m \u001b[43m    \u001b[49m\u001b[43mprofile\u001b[49m\u001b[38;5;241;43m=\u001b[39;49m\u001b[43mprofile\u001b[49m\u001b[43m,\u001b[49m\n\u001b[1;32m    472\u001b[0m \u001b[43m    \u001b[49m\u001b[43mon_unused_input\u001b[49m\u001b[38;5;241;43m=\u001b[39;49m\u001b[43mon_unused_input\u001b[49m\u001b[43m,\u001b[49m\n\u001b[1;32m    473\u001b[0m \u001b[43m    \u001b[49m\u001b[43moutput_keys\u001b[49m\u001b[38;5;241;43m=\u001b[39;49m\u001b[43moutput_keys\u001b[49m\u001b[43m,\u001b[49m\n\u001b[1;32m    474\u001b[0m \u001b[43m    \u001b[49m\u001b[43mfgraph\u001b[49m\u001b[38;5;241;43m=\u001b[39;49m\u001b[43mfgraph\u001b[49m\u001b[43m,\u001b[49m\n\u001b[1;32m    475\u001b[0m \u001b[43m\u001b[49m\u001b[43m)\u001b[49m\n",
      "File \u001b[0;32m~/miniconda3/envs/bayes_spec-dev/lib/python3.12/site-packages/pytensor/compile/function/types.py:1745\u001b[0m, in \u001b[0;36morig_function\u001b[0;34m(inputs, outputs, mode, accept_inplace, name, profile, on_unused_input, output_keys, fgraph)\u001b[0m\n\u001b[1;32m   1743\u001b[0m \u001b[38;5;28;01mtry\u001b[39;00m:\n\u001b[1;32m   1744\u001b[0m     Maker \u001b[38;5;241m=\u001b[39m \u001b[38;5;28mgetattr\u001b[39m(mode, \u001b[38;5;124m\"\u001b[39m\u001b[38;5;124mfunction_maker\u001b[39m\u001b[38;5;124m\"\u001b[39m, FunctionMaker)\n\u001b[0;32m-> 1745\u001b[0m     m \u001b[38;5;241m=\u001b[39m \u001b[43mMaker\u001b[49m\u001b[43m(\u001b[49m\n\u001b[1;32m   1746\u001b[0m \u001b[43m        \u001b[49m\u001b[43minputs\u001b[49m\u001b[43m,\u001b[49m\n\u001b[1;32m   1747\u001b[0m \u001b[43m        \u001b[49m\u001b[43moutputs\u001b[49m\u001b[43m,\u001b[49m\n\u001b[1;32m   1748\u001b[0m \u001b[43m        \u001b[49m\u001b[43mmode\u001b[49m\u001b[43m,\u001b[49m\n\u001b[1;32m   1749\u001b[0m \u001b[43m        \u001b[49m\u001b[43maccept_inplace\u001b[49m\u001b[38;5;241;43m=\u001b[39;49m\u001b[43maccept_inplace\u001b[49m\u001b[43m,\u001b[49m\n\u001b[1;32m   1750\u001b[0m \u001b[43m        \u001b[49m\u001b[43mprofile\u001b[49m\u001b[38;5;241;43m=\u001b[39;49m\u001b[43mprofile\u001b[49m\u001b[43m,\u001b[49m\n\u001b[1;32m   1751\u001b[0m \u001b[43m        \u001b[49m\u001b[43mon_unused_input\u001b[49m\u001b[38;5;241;43m=\u001b[39;49m\u001b[43mon_unused_input\u001b[49m\u001b[43m,\u001b[49m\n\u001b[1;32m   1752\u001b[0m \u001b[43m        \u001b[49m\u001b[43moutput_keys\u001b[49m\u001b[38;5;241;43m=\u001b[39;49m\u001b[43moutput_keys\u001b[49m\u001b[43m,\u001b[49m\n\u001b[1;32m   1753\u001b[0m \u001b[43m        \u001b[49m\u001b[43mname\u001b[49m\u001b[38;5;241;43m=\u001b[39;49m\u001b[43mname\u001b[49m\u001b[43m,\u001b[49m\n\u001b[1;32m   1754\u001b[0m \u001b[43m        \u001b[49m\u001b[43mfgraph\u001b[49m\u001b[38;5;241;43m=\u001b[39;49m\u001b[43mfgraph\u001b[49m\u001b[43m,\u001b[49m\n\u001b[1;32m   1755\u001b[0m \u001b[43m    \u001b[49m\u001b[43m)\u001b[49m\n\u001b[1;32m   1756\u001b[0m     \u001b[38;5;28;01mwith\u001b[39;00m config\u001b[38;5;241m.\u001b[39mchange_flags(compute_test_value\u001b[38;5;241m=\u001b[39m\u001b[38;5;124m\"\u001b[39m\u001b[38;5;124moff\u001b[39m\u001b[38;5;124m\"\u001b[39m):\n\u001b[1;32m   1757\u001b[0m         fn \u001b[38;5;241m=\u001b[39m m\u001b[38;5;241m.\u001b[39mcreate(defaults)\n",
      "File \u001b[0;32m~/miniconda3/envs/bayes_spec-dev/lib/python3.12/site-packages/pytensor/compile/function/types.py:1516\u001b[0m, in \u001b[0;36mFunctionMaker.__init__\u001b[0;34m(self, inputs, outputs, mode, accept_inplace, function_builder, profile, on_unused_input, fgraph, output_keys, name, no_fgraph_prep)\u001b[0m\n\u001b[1;32m   1513\u001b[0m \u001b[38;5;28mself\u001b[39m\u001b[38;5;241m.\u001b[39mfgraph \u001b[38;5;241m=\u001b[39m fgraph\n\u001b[1;32m   1515\u001b[0m \u001b[38;5;28;01mif\u001b[39;00m \u001b[38;5;129;01mnot\u001b[39;00m no_fgraph_prep:\n\u001b[0;32m-> 1516\u001b[0m     \u001b[38;5;28;43mself\u001b[39;49m\u001b[38;5;241;43m.\u001b[39;49m\u001b[43mprepare_fgraph\u001b[49m\u001b[43m(\u001b[49m\u001b[43minputs\u001b[49m\u001b[43m,\u001b[49m\u001b[43m \u001b[49m\u001b[43moutputs\u001b[49m\u001b[43m,\u001b[49m\u001b[43m \u001b[49m\u001b[43mfound_updates\u001b[49m\u001b[43m,\u001b[49m\u001b[43m \u001b[49m\u001b[43mfgraph\u001b[49m\u001b[43m,\u001b[49m\u001b[43m \u001b[49m\u001b[43mmode\u001b[49m\u001b[43m,\u001b[49m\u001b[43m \u001b[49m\u001b[43mprofile\u001b[49m\u001b[43m)\u001b[49m\n\u001b[1;32m   1518\u001b[0m \u001b[38;5;28;01massert\u001b[39;00m \u001b[38;5;28mlen\u001b[39m(fgraph\u001b[38;5;241m.\u001b[39moutputs) \u001b[38;5;241m==\u001b[39m \u001b[38;5;28mlen\u001b[39m(outputs \u001b[38;5;241m+\u001b[39m found_updates)\n\u001b[1;32m   1520\u001b[0m \u001b[38;5;66;03m# The 'no_borrow' outputs are the ones for which that we can't\u001b[39;00m\n\u001b[1;32m   1521\u001b[0m \u001b[38;5;66;03m# return the internal storage pointer.\u001b[39;00m\n",
      "File \u001b[0;32m~/miniconda3/envs/bayes_spec-dev/lib/python3.12/site-packages/pytensor/compile/function/types.py:1404\u001b[0m, in \u001b[0;36mFunctionMaker.prepare_fgraph\u001b[0;34m(inputs, outputs, additional_outputs, fgraph, mode, profile)\u001b[0m\n\u001b[1;32m   1397\u001b[0m rewrite_time \u001b[38;5;241m=\u001b[39m \u001b[38;5;28;01mNone\u001b[39;00m\n\u001b[1;32m   1399\u001b[0m \u001b[38;5;28;01mwith\u001b[39;00m config\u001b[38;5;241m.\u001b[39mchange_flags(\n\u001b[1;32m   1400\u001b[0m     mode\u001b[38;5;241m=\u001b[39mmode,\n\u001b[1;32m   1401\u001b[0m     compute_test_value\u001b[38;5;241m=\u001b[39mconfig\u001b[38;5;241m.\u001b[39mcompute_test_value_opt,\n\u001b[1;32m   1402\u001b[0m     traceback__limit\u001b[38;5;241m=\u001b[39mconfig\u001b[38;5;241m.\u001b[39mtraceback__compile_limit,\n\u001b[1;32m   1403\u001b[0m ):\n\u001b[0;32m-> 1404\u001b[0m     rewriter_profile \u001b[38;5;241m=\u001b[39m \u001b[43mrewriter\u001b[49m\u001b[43m(\u001b[49m\u001b[43mfgraph\u001b[49m\u001b[43m)\u001b[49m\n\u001b[1;32m   1406\u001b[0m     end_rewriter \u001b[38;5;241m=\u001b[39m time\u001b[38;5;241m.\u001b[39mperf_counter()\n\u001b[1;32m   1407\u001b[0m     rewrite_time \u001b[38;5;241m=\u001b[39m end_rewriter \u001b[38;5;241m-\u001b[39m start_rewriter\n",
      "File \u001b[0;32m~/miniconda3/envs/bayes_spec-dev/lib/python3.12/site-packages/pytensor/graph/rewriting/basic.py:125\u001b[0m, in \u001b[0;36mGraphRewriter.__call__\u001b[0;34m(self, fgraph)\u001b[0m\n\u001b[1;32m    123\u001b[0m \u001b[38;5;28;01mdef\u001b[39;00m \u001b[38;5;21m__call__\u001b[39m(\u001b[38;5;28mself\u001b[39m, fgraph):\n\u001b[1;32m    124\u001b[0m \u001b[38;5;250m    \u001b[39m\u001b[38;5;124;03m\"\"\"Rewrite a `FunctionGraph`.\"\"\"\u001b[39;00m\n\u001b[0;32m--> 125\u001b[0m     \u001b[38;5;28;01mreturn\u001b[39;00m \u001b[38;5;28;43mself\u001b[39;49m\u001b[38;5;241;43m.\u001b[39;49m\u001b[43mrewrite\u001b[49m\u001b[43m(\u001b[49m\u001b[43mfgraph\u001b[49m\u001b[43m)\u001b[49m\n",
      "File \u001b[0;32m~/miniconda3/envs/bayes_spec-dev/lib/python3.12/site-packages/pytensor/graph/rewriting/basic.py:121\u001b[0m, in \u001b[0;36mGraphRewriter.rewrite\u001b[0;34m(self, fgraph, *args, **kwargs)\u001b[0m\n\u001b[1;32m    112\u001b[0m \u001b[38;5;250m\u001b[39m\u001b[38;5;124;03m\"\"\"\u001b[39;00m\n\u001b[1;32m    113\u001b[0m \n\u001b[1;32m    114\u001b[0m \u001b[38;5;124;03mThis is meant as a shortcut for the following::\u001b[39;00m\n\u001b[0;32m   (...)\u001b[0m\n\u001b[1;32m    118\u001b[0m \n\u001b[1;32m    119\u001b[0m \u001b[38;5;124;03m\"\"\"\u001b[39;00m\n\u001b[1;32m    120\u001b[0m \u001b[38;5;28mself\u001b[39m\u001b[38;5;241m.\u001b[39madd_requirements(fgraph)\n\u001b[0;32m--> 121\u001b[0m \u001b[38;5;28;01mreturn\u001b[39;00m \u001b[38;5;28;43mself\u001b[39;49m\u001b[38;5;241;43m.\u001b[39;49m\u001b[43mapply\u001b[49m\u001b[43m(\u001b[49m\u001b[43mfgraph\u001b[49m\u001b[43m,\u001b[49m\u001b[43m \u001b[49m\u001b[38;5;241;43m*\u001b[39;49m\u001b[43margs\u001b[49m\u001b[43m,\u001b[49m\u001b[43m \u001b[49m\u001b[38;5;241;43m*\u001b[39;49m\u001b[38;5;241;43m*\u001b[39;49m\u001b[43mkwargs\u001b[49m\u001b[43m)\u001b[49m\n",
      "File \u001b[0;32m~/miniconda3/envs/bayes_spec-dev/lib/python3.12/site-packages/pytensor/graph/rewriting/basic.py:291\u001b[0m, in \u001b[0;36mSequentialGraphRewriter.apply\u001b[0;34m(self, fgraph)\u001b[0m\n\u001b[1;32m    289\u001b[0m nb_nodes_before \u001b[38;5;241m=\u001b[39m \u001b[38;5;28mlen\u001b[39m(fgraph\u001b[38;5;241m.\u001b[39mapply_nodes)\n\u001b[1;32m    290\u001b[0m t0 \u001b[38;5;241m=\u001b[39m time\u001b[38;5;241m.\u001b[39mperf_counter()\n\u001b[0;32m--> 291\u001b[0m sub_prof \u001b[38;5;241m=\u001b[39m \u001b[43mrewriter\u001b[49m\u001b[38;5;241;43m.\u001b[39;49m\u001b[43mapply\u001b[49m\u001b[43m(\u001b[49m\u001b[43mfgraph\u001b[49m\u001b[43m)\u001b[49m\n\u001b[1;32m    292\u001b[0m l\u001b[38;5;241m.\u001b[39mappend(\u001b[38;5;28mfloat\u001b[39m(time\u001b[38;5;241m.\u001b[39mperf_counter() \u001b[38;5;241m-\u001b[39m t0))\n\u001b[1;32m    293\u001b[0m sub_profs\u001b[38;5;241m.\u001b[39mappend(sub_prof)\n",
      "File \u001b[0;32m~/miniconda3/envs/bayes_spec-dev/lib/python3.12/site-packages/pytensor/graph/rewriting/basic.py:2443\u001b[0m, in \u001b[0;36mEquilibriumGraphRewriter.apply\u001b[0;34m(self, fgraph, start_from)\u001b[0m\n\u001b[1;32m   2441\u001b[0m nb \u001b[38;5;241m=\u001b[39m change_tracker\u001b[38;5;241m.\u001b[39mnb_imported\n\u001b[1;32m   2442\u001b[0m t_rewrite \u001b[38;5;241m=\u001b[39m time\u001b[38;5;241m.\u001b[39mperf_counter()\n\u001b[0;32m-> 2443\u001b[0m sub_prof \u001b[38;5;241m=\u001b[39m \u001b[43mgrewrite\u001b[49m\u001b[38;5;241;43m.\u001b[39;49m\u001b[43mapply\u001b[49m\u001b[43m(\u001b[49m\u001b[43mfgraph\u001b[49m\u001b[43m)\u001b[49m\n\u001b[1;32m   2444\u001b[0m time_rewriters[grewrite] \u001b[38;5;241m+\u001b[39m\u001b[38;5;241m=\u001b[39m time\u001b[38;5;241m.\u001b[39mperf_counter() \u001b[38;5;241m-\u001b[39m t_rewrite\n\u001b[1;32m   2445\u001b[0m sub_profs\u001b[38;5;241m.\u001b[39mappend(sub_prof)\n",
      "File \u001b[0;32m~/miniconda3/envs/bayes_spec-dev/lib/python3.12/site-packages/pytensor/graph/rewriting/basic.py:2027\u001b[0m, in \u001b[0;36mWalkingGraphRewriter.apply\u001b[0;34m(self, fgraph, start_from)\u001b[0m\n\u001b[1;32m   2025\u001b[0m             \u001b[38;5;28;01mcontinue\u001b[39;00m\n\u001b[1;32m   2026\u001b[0m         current_node \u001b[38;5;241m=\u001b[39m node\n\u001b[0;32m-> 2027\u001b[0m         nb \u001b[38;5;241m+\u001b[39m\u001b[38;5;241m=\u001b[39m \u001b[38;5;28;43mself\u001b[39;49m\u001b[38;5;241;43m.\u001b[39;49m\u001b[43mprocess_node\u001b[49m\u001b[43m(\u001b[49m\u001b[43mfgraph\u001b[49m\u001b[43m,\u001b[49m\u001b[43m \u001b[49m\u001b[43mnode\u001b[49m\u001b[43m)\u001b[49m\n\u001b[1;32m   2028\u001b[0m     loop_t \u001b[38;5;241m=\u001b[39m time\u001b[38;5;241m.\u001b[39mperf_counter() \u001b[38;5;241m-\u001b[39m t0\n\u001b[1;32m   2029\u001b[0m \u001b[38;5;28;01mfinally\u001b[39;00m:\n",
      "File \u001b[0;32m~/miniconda3/envs/bayes_spec-dev/lib/python3.12/site-packages/pytensor/graph/rewriting/basic.py:1909\u001b[0m, in \u001b[0;36mNodeProcessingGraphRewriter.process_node\u001b[0;34m(self, fgraph, node, node_rewriter)\u001b[0m\n\u001b[1;32m   1907\u001b[0m \u001b[38;5;28;01massert\u001b[39;00m node_rewriter \u001b[38;5;129;01mis\u001b[39;00m \u001b[38;5;129;01mnot\u001b[39;00m \u001b[38;5;28;01mNone\u001b[39;00m\n\u001b[1;32m   1908\u001b[0m \u001b[38;5;28;01mtry\u001b[39;00m:\n\u001b[0;32m-> 1909\u001b[0m     replacements \u001b[38;5;241m=\u001b[39m \u001b[43mnode_rewriter\u001b[49m\u001b[38;5;241;43m.\u001b[39;49m\u001b[43mtransform\u001b[49m\u001b[43m(\u001b[49m\u001b[43mfgraph\u001b[49m\u001b[43m,\u001b[49m\u001b[43m \u001b[49m\u001b[43mnode\u001b[49m\u001b[43m)\u001b[49m\n\u001b[1;32m   1910\u001b[0m \u001b[38;5;28;01mexcept\u001b[39;00m \u001b[38;5;167;01mException\u001b[39;00m \u001b[38;5;28;01mas\u001b[39;00m e:\n\u001b[1;32m   1911\u001b[0m     \u001b[38;5;28;01mif\u001b[39;00m \u001b[38;5;28mself\u001b[39m\u001b[38;5;241m.\u001b[39mfailure_callback \u001b[38;5;129;01mis\u001b[39;00m \u001b[38;5;129;01mnot\u001b[39;00m \u001b[38;5;28;01mNone\u001b[39;00m:\n",
      "File \u001b[0;32m~/miniconda3/envs/bayes_spec-dev/lib/python3.12/site-packages/pytensor/graph/rewriting/basic.py:1081\u001b[0m, in \u001b[0;36mFromFunctionNodeRewriter.transform\u001b[0;34m(self, fgraph, node)\u001b[0m\n\u001b[1;32m   1076\u001b[0m     \u001b[38;5;28;01mif\u001b[39;00m \u001b[38;5;129;01mnot\u001b[39;00m (\n\u001b[1;32m   1077\u001b[0m         node\u001b[38;5;241m.\u001b[39mop \u001b[38;5;129;01min\u001b[39;00m \u001b[38;5;28mself\u001b[39m\u001b[38;5;241m.\u001b[39m_tracks \u001b[38;5;129;01mor\u001b[39;00m \u001b[38;5;28misinstance\u001b[39m(node\u001b[38;5;241m.\u001b[39mop, \u001b[38;5;28mself\u001b[39m\u001b[38;5;241m.\u001b[39m_tracked_types)\n\u001b[1;32m   1078\u001b[0m     ):\n\u001b[1;32m   1079\u001b[0m         \u001b[38;5;28;01mreturn\u001b[39;00m \u001b[38;5;28;01mFalse\u001b[39;00m\n\u001b[0;32m-> 1081\u001b[0m \u001b[38;5;28;01mreturn\u001b[39;00m \u001b[38;5;28;43mself\u001b[39;49m\u001b[38;5;241;43m.\u001b[39;49m\u001b[43mfn\u001b[49m\u001b[43m(\u001b[49m\u001b[43mfgraph\u001b[49m\u001b[43m,\u001b[49m\u001b[43m \u001b[49m\u001b[43mnode\u001b[49m\u001b[43m)\u001b[49m\n",
      "File \u001b[0;32m~/miniconda3/envs/bayes_spec-dev/lib/python3.12/site-packages/pytensor/tensor/rewriting/basic.py:1166\u001b[0m, in \u001b[0;36mconstant_folding\u001b[0;34m(fgraph, node)\u001b[0m\n\u001b[1;32m   1163\u001b[0m \u001b[38;5;28;01mif\u001b[39;00m \u001b[38;5;129;01mnot\u001b[39;00m node\u001b[38;5;241m.\u001b[39mop\u001b[38;5;241m.\u001b[39mdo_constant_folding(fgraph, node):\n\u001b[1;32m   1164\u001b[0m     \u001b[38;5;28;01mreturn\u001b[39;00m \u001b[38;5;28;01mFalse\u001b[39;00m\n\u001b[0;32m-> 1166\u001b[0m \u001b[38;5;28;01mreturn\u001b[39;00m \u001b[43munconditional_constant_folding\u001b[49m\u001b[38;5;241;43m.\u001b[39;49m\u001b[43mtransform\u001b[49m\u001b[43m(\u001b[49m\u001b[43mfgraph\u001b[49m\u001b[43m,\u001b[49m\u001b[43m \u001b[49m\u001b[43mnode\u001b[49m\u001b[43m)\u001b[49m\n",
      "File \u001b[0;32m~/miniconda3/envs/bayes_spec-dev/lib/python3.12/site-packages/pytensor/graph/rewriting/basic.py:1081\u001b[0m, in \u001b[0;36mFromFunctionNodeRewriter.transform\u001b[0;34m(self, fgraph, node)\u001b[0m\n\u001b[1;32m   1076\u001b[0m     \u001b[38;5;28;01mif\u001b[39;00m \u001b[38;5;129;01mnot\u001b[39;00m (\n\u001b[1;32m   1077\u001b[0m         node\u001b[38;5;241m.\u001b[39mop \u001b[38;5;129;01min\u001b[39;00m \u001b[38;5;28mself\u001b[39m\u001b[38;5;241m.\u001b[39m_tracks \u001b[38;5;129;01mor\u001b[39;00m \u001b[38;5;28misinstance\u001b[39m(node\u001b[38;5;241m.\u001b[39mop, \u001b[38;5;28mself\u001b[39m\u001b[38;5;241m.\u001b[39m_tracked_types)\n\u001b[1;32m   1078\u001b[0m     ):\n\u001b[1;32m   1079\u001b[0m         \u001b[38;5;28;01mreturn\u001b[39;00m \u001b[38;5;28;01mFalse\u001b[39;00m\n\u001b[0;32m-> 1081\u001b[0m \u001b[38;5;28;01mreturn\u001b[39;00m \u001b[38;5;28;43mself\u001b[39;49m\u001b[38;5;241;43m.\u001b[39;49m\u001b[43mfn\u001b[49m\u001b[43m(\u001b[49m\u001b[43mfgraph\u001b[49m\u001b[43m,\u001b[49m\u001b[43m \u001b[49m\u001b[43mnode\u001b[49m\u001b[43m)\u001b[49m\n",
      "File \u001b[0;32m~/miniconda3/envs/bayes_spec-dev/lib/python3.12/site-packages/pytensor/tensor/rewriting/basic.py:1115\u001b[0m, in \u001b[0;36munconditional_constant_folding\u001b[0;34m(fgraph, node)\u001b[0m\n\u001b[1;32m   1112\u001b[0m     storage_map[o] \u001b[38;5;241m=\u001b[39m [\u001b[38;5;28;01mNone\u001b[39;00m]\n\u001b[1;32m   1113\u001b[0m     compute_map[o] \u001b[38;5;241m=\u001b[39m [\u001b[38;5;28;01mFalse\u001b[39;00m]\n\u001b[0;32m-> 1115\u001b[0m thunk \u001b[38;5;241m=\u001b[39m \u001b[43mnode\u001b[49m\u001b[38;5;241;43m.\u001b[39;49m\u001b[43mop\u001b[49m\u001b[38;5;241;43m.\u001b[39;49m\u001b[43mmake_thunk\u001b[49m\u001b[43m(\u001b[49m\u001b[43mnode\u001b[49m\u001b[43m,\u001b[49m\u001b[43m \u001b[49m\u001b[43mstorage_map\u001b[49m\u001b[43m,\u001b[49m\u001b[43m \u001b[49m\u001b[43mcompute_map\u001b[49m\u001b[43m,\u001b[49m\u001b[43m \u001b[49m\u001b[43mno_recycling\u001b[49m\u001b[38;5;241;43m=\u001b[39;49m\u001b[43m[\u001b[49m\u001b[43m]\u001b[49m\u001b[43m)\u001b[49m\n\u001b[1;32m   1116\u001b[0m required \u001b[38;5;241m=\u001b[39m thunk()\n\u001b[1;32m   1118\u001b[0m \u001b[38;5;66;03m# A node whose inputs are all provided should always return successfully\u001b[39;00m\n",
      "File \u001b[0;32m~/miniconda3/envs/bayes_spec-dev/lib/python3.12/site-packages/pytensor/link/c/op.py:119\u001b[0m, in \u001b[0;36mCOp.make_thunk\u001b[0;34m(self, node, storage_map, compute_map, no_recycling, impl)\u001b[0m\n\u001b[1;32m    115\u001b[0m \u001b[38;5;28mself\u001b[39m\u001b[38;5;241m.\u001b[39mprepare_node(\n\u001b[1;32m    116\u001b[0m     node, storage_map\u001b[38;5;241m=\u001b[39mstorage_map, compute_map\u001b[38;5;241m=\u001b[39mcompute_map, impl\u001b[38;5;241m=\u001b[39m\u001b[38;5;124m\"\u001b[39m\u001b[38;5;124mc\u001b[39m\u001b[38;5;124m\"\u001b[39m\n\u001b[1;32m    117\u001b[0m )\n\u001b[1;32m    118\u001b[0m \u001b[38;5;28;01mtry\u001b[39;00m:\n\u001b[0;32m--> 119\u001b[0m     \u001b[38;5;28;01mreturn\u001b[39;00m \u001b[38;5;28;43mself\u001b[39;49m\u001b[38;5;241;43m.\u001b[39;49m\u001b[43mmake_c_thunk\u001b[49m\u001b[43m(\u001b[49m\u001b[43mnode\u001b[49m\u001b[43m,\u001b[49m\u001b[43m \u001b[49m\u001b[43mstorage_map\u001b[49m\u001b[43m,\u001b[49m\u001b[43m \u001b[49m\u001b[43mcompute_map\u001b[49m\u001b[43m,\u001b[49m\u001b[43m \u001b[49m\u001b[43mno_recycling\u001b[49m\u001b[43m)\u001b[49m\n\u001b[1;32m    120\u001b[0m \u001b[38;5;28;01mexcept\u001b[39;00m (\u001b[38;5;167;01mNotImplementedError\u001b[39;00m, MethodNotDefined):\n\u001b[1;32m    121\u001b[0m     \u001b[38;5;66;03m# We requested the c code, so don't catch the error.\u001b[39;00m\n\u001b[1;32m    122\u001b[0m     \u001b[38;5;28;01mif\u001b[39;00m impl \u001b[38;5;241m==\u001b[39m \u001b[38;5;124m\"\u001b[39m\u001b[38;5;124mc\u001b[39m\u001b[38;5;124m\"\u001b[39m:\n",
      "File \u001b[0;32m~/miniconda3/envs/bayes_spec-dev/lib/python3.12/site-packages/pytensor/link/c/op.py:84\u001b[0m, in \u001b[0;36mCOp.make_c_thunk\u001b[0;34m(self, node, storage_map, compute_map, no_recycling)\u001b[0m\n\u001b[1;32m     82\u001b[0m         \u001b[38;5;28mprint\u001b[39m(\u001b[38;5;124mf\u001b[39m\u001b[38;5;124m\"\u001b[39m\u001b[38;5;124mDisabling C code for \u001b[39m\u001b[38;5;132;01m{\u001b[39;00m\u001b[38;5;28mself\u001b[39m\u001b[38;5;132;01m}\u001b[39;00m\u001b[38;5;124m due to unsupported float16\u001b[39m\u001b[38;5;124m\"\u001b[39m)\n\u001b[1;32m     83\u001b[0m         \u001b[38;5;28;01mraise\u001b[39;00m \u001b[38;5;167;01mNotImplementedError\u001b[39;00m(\u001b[38;5;124m\"\u001b[39m\u001b[38;5;124mfloat16\u001b[39m\u001b[38;5;124m\"\u001b[39m)\n\u001b[0;32m---> 84\u001b[0m outputs \u001b[38;5;241m=\u001b[39m \u001b[43mcl\u001b[49m\u001b[38;5;241;43m.\u001b[39;49m\u001b[43mmake_thunk\u001b[49m\u001b[43m(\u001b[49m\n\u001b[1;32m     85\u001b[0m \u001b[43m    \u001b[49m\u001b[43minput_storage\u001b[49m\u001b[38;5;241;43m=\u001b[39;49m\u001b[43mnode_input_storage\u001b[49m\u001b[43m,\u001b[49m\u001b[43m \u001b[49m\u001b[43moutput_storage\u001b[49m\u001b[38;5;241;43m=\u001b[39;49m\u001b[43mnode_output_storage\u001b[49m\n\u001b[1;32m     86\u001b[0m \u001b[43m\u001b[49m\u001b[43m)\u001b[49m\n\u001b[1;32m     87\u001b[0m thunk, node_input_filters, node_output_filters \u001b[38;5;241m=\u001b[39m outputs\n\u001b[1;32m     89\u001b[0m \u001b[38;5;129m@is_cthunk_wrapper_type\u001b[39m\n\u001b[1;32m     90\u001b[0m \u001b[38;5;28;01mdef\u001b[39;00m \u001b[38;5;21mrval\u001b[39m():\n",
      "File \u001b[0;32m~/miniconda3/envs/bayes_spec-dev/lib/python3.12/site-packages/pytensor/link/c/basic.py:1182\u001b[0m, in \u001b[0;36mCLinker.make_thunk\u001b[0;34m(self, input_storage, output_storage, storage_map, cache, **kwargs)\u001b[0m\n\u001b[1;32m   1147\u001b[0m \u001b[38;5;250m\u001b[39m\u001b[38;5;124;03m\"\"\"Compile this linker's `self.fgraph` and return a function that performs the computations.\u001b[39;00m\n\u001b[1;32m   1148\u001b[0m \n\u001b[1;32m   1149\u001b[0m \u001b[38;5;124;03mThe return values can be used as follows:\u001b[39;00m\n\u001b[0;32m   (...)\u001b[0m\n\u001b[1;32m   1179\u001b[0m \n\u001b[1;32m   1180\u001b[0m \u001b[38;5;124;03m\"\"\"\u001b[39;00m\n\u001b[1;32m   1181\u001b[0m init_tasks, tasks \u001b[38;5;241m=\u001b[39m \u001b[38;5;28mself\u001b[39m\u001b[38;5;241m.\u001b[39mget_init_tasks()\n\u001b[0;32m-> 1182\u001b[0m cthunk, module, in_storage, out_storage, error_storage \u001b[38;5;241m=\u001b[39m \u001b[38;5;28;43mself\u001b[39;49m\u001b[38;5;241;43m.\u001b[39;49m\u001b[43m__compile__\u001b[49m\u001b[43m(\u001b[49m\n\u001b[1;32m   1183\u001b[0m \u001b[43m    \u001b[49m\u001b[43minput_storage\u001b[49m\u001b[43m,\u001b[49m\u001b[43m \u001b[49m\u001b[43moutput_storage\u001b[49m\u001b[43m,\u001b[49m\u001b[43m \u001b[49m\u001b[43mstorage_map\u001b[49m\u001b[43m,\u001b[49m\u001b[43m \u001b[49m\u001b[43mcache\u001b[49m\n\u001b[1;32m   1184\u001b[0m \u001b[43m\u001b[49m\u001b[43m)\u001b[49m\n\u001b[1;32m   1186\u001b[0m res \u001b[38;5;241m=\u001b[39m _CThunk(cthunk, init_tasks, tasks, error_storage, module)\n\u001b[1;32m   1187\u001b[0m res\u001b[38;5;241m.\u001b[39mnodes \u001b[38;5;241m=\u001b[39m \u001b[38;5;28mself\u001b[39m\u001b[38;5;241m.\u001b[39mnode_order\n",
      "File \u001b[0;32m~/miniconda3/envs/bayes_spec-dev/lib/python3.12/site-packages/pytensor/link/c/basic.py:1103\u001b[0m, in \u001b[0;36mCLinker.__compile__\u001b[0;34m(self, input_storage, output_storage, storage_map, cache)\u001b[0m\n\u001b[1;32m   1101\u001b[0m input_storage \u001b[38;5;241m=\u001b[39m \u001b[38;5;28mtuple\u001b[39m(input_storage)\n\u001b[1;32m   1102\u001b[0m output_storage \u001b[38;5;241m=\u001b[39m \u001b[38;5;28mtuple\u001b[39m(output_storage)\n\u001b[0;32m-> 1103\u001b[0m thunk, module \u001b[38;5;241m=\u001b[39m \u001b[38;5;28;43mself\u001b[39;49m\u001b[38;5;241;43m.\u001b[39;49m\u001b[43mcthunk_factory\u001b[49m\u001b[43m(\u001b[49m\n\u001b[1;32m   1104\u001b[0m \u001b[43m    \u001b[49m\u001b[43merror_storage\u001b[49m\u001b[43m,\u001b[49m\n\u001b[1;32m   1105\u001b[0m \u001b[43m    \u001b[49m\u001b[43minput_storage\u001b[49m\u001b[43m,\u001b[49m\n\u001b[1;32m   1106\u001b[0m \u001b[43m    \u001b[49m\u001b[43moutput_storage\u001b[49m\u001b[43m,\u001b[49m\n\u001b[1;32m   1107\u001b[0m \u001b[43m    \u001b[49m\u001b[43mstorage_map\u001b[49m\u001b[43m,\u001b[49m\n\u001b[1;32m   1108\u001b[0m \u001b[43m    \u001b[49m\u001b[43mcache\u001b[49m\u001b[43m,\u001b[49m\n\u001b[1;32m   1109\u001b[0m \u001b[43m\u001b[49m\u001b[43m)\u001b[49m\n\u001b[1;32m   1110\u001b[0m \u001b[38;5;28;01mreturn\u001b[39;00m (\n\u001b[1;32m   1111\u001b[0m     thunk,\n\u001b[1;32m   1112\u001b[0m     module,\n\u001b[0;32m   (...)\u001b[0m\n\u001b[1;32m   1121\u001b[0m     error_storage,\n\u001b[1;32m   1122\u001b[0m )\n",
      "File \u001b[0;32m~/miniconda3/envs/bayes_spec-dev/lib/python3.12/site-packages/pytensor/link/c/basic.py:1626\u001b[0m, in \u001b[0;36mCLinker.cthunk_factory\u001b[0;34m(self, error_storage, in_storage, out_storage, storage_map, cache)\u001b[0m\n\u001b[1;32m   1624\u001b[0m         node\u001b[38;5;241m.\u001b[39mop\u001b[38;5;241m.\u001b[39mprepare_node(node, storage_map, \u001b[38;5;28;01mNone\u001b[39;00m, \u001b[38;5;124m\"\u001b[39m\u001b[38;5;124mc\u001b[39m\u001b[38;5;124m\"\u001b[39m)\n\u001b[1;32m   1625\u001b[0m     \u001b[38;5;28;01mif\u001b[39;00m cache \u001b[38;5;129;01mis\u001b[39;00m \u001b[38;5;28;01mNone\u001b[39;00m:\n\u001b[0;32m-> 1626\u001b[0m         cache \u001b[38;5;241m=\u001b[39m \u001b[43mget_module_cache\u001b[49m\u001b[43m(\u001b[49m\u001b[43m)\u001b[49m\n\u001b[1;32m   1627\u001b[0m     module \u001b[38;5;241m=\u001b[39m cache\u001b[38;5;241m.\u001b[39mmodule_from_key(key\u001b[38;5;241m=\u001b[39mkey, lnk\u001b[38;5;241m=\u001b[39m\u001b[38;5;28mself\u001b[39m)\n\u001b[1;32m   1629\u001b[0m \u001b[38;5;28mvars\u001b[39m \u001b[38;5;241m=\u001b[39m \u001b[38;5;28mself\u001b[39m\u001b[38;5;241m.\u001b[39minputs \u001b[38;5;241m+\u001b[39m \u001b[38;5;28mself\u001b[39m\u001b[38;5;241m.\u001b[39moutputs \u001b[38;5;241m+\u001b[39m \u001b[38;5;28mself\u001b[39m\u001b[38;5;241m.\u001b[39morphans\n",
      "File \u001b[0;32m~/miniconda3/envs/bayes_spec-dev/lib/python3.12/site-packages/pytensor/link/c/basic.py:56\u001b[0m, in \u001b[0;36mget_module_cache\u001b[0;34m(init_args)\u001b[0m\n\u001b[1;32m     46\u001b[0m \u001b[38;5;28;01mdef\u001b[39;00m \u001b[38;5;21mget_module_cache\u001b[39m(init_args: \u001b[38;5;28mdict\u001b[39m[\u001b[38;5;28mstr\u001b[39m, Any] \u001b[38;5;241m|\u001b[39m \u001b[38;5;28;01mNone\u001b[39;00m \u001b[38;5;241m=\u001b[39m \u001b[38;5;28;01mNone\u001b[39;00m) \u001b[38;5;241m-\u001b[39m\u001b[38;5;241m>\u001b[39m \u001b[38;5;124m\"\u001b[39m\u001b[38;5;124mModuleCache\u001b[39m\u001b[38;5;124m\"\u001b[39m:\n\u001b[1;32m     47\u001b[0m \u001b[38;5;250m    \u001b[39m\u001b[38;5;124;03m\"\"\"\u001b[39;00m\n\u001b[1;32m     48\u001b[0m \n\u001b[1;32m     49\u001b[0m \u001b[38;5;124;03m    Parameters\u001b[39;00m\n\u001b[0;32m   (...)\u001b[0m\n\u001b[1;32m     54\u001b[0m \n\u001b[1;32m     55\u001b[0m \u001b[38;5;124;03m    \"\"\"\u001b[39;00m\n\u001b[0;32m---> 56\u001b[0m     \u001b[38;5;28;01mreturn\u001b[39;00m \u001b[43m_get_module_cache\u001b[49m\u001b[43m(\u001b[49m\u001b[43mconfig\u001b[49m\u001b[38;5;241;43m.\u001b[39;49m\u001b[43mcompiledir\u001b[49m\u001b[43m,\u001b[49m\u001b[43m \u001b[49m\u001b[43minit_args\u001b[49m\u001b[38;5;241;43m=\u001b[39;49m\u001b[43minit_args\u001b[49m\u001b[43m)\u001b[49m\n",
      "File \u001b[0;32m~/miniconda3/envs/bayes_spec-dev/lib/python3.12/site-packages/pytensor/link/c/cmodule.py:1660\u001b[0m, in \u001b[0;36mget_module_cache\u001b[0;34m(dirname, init_args)\u001b[0m\n\u001b[1;32m   1658\u001b[0m     init_args \u001b[38;5;241m=\u001b[39m {}\n\u001b[1;32m   1659\u001b[0m \u001b[38;5;28;01mif\u001b[39;00m _module_cache \u001b[38;5;129;01mis\u001b[39;00m \u001b[38;5;28;01mNone\u001b[39;00m:\n\u001b[0;32m-> 1660\u001b[0m     _module_cache \u001b[38;5;241m=\u001b[39m \u001b[43mModuleCache\u001b[49m\u001b[43m(\u001b[49m\u001b[43mdirname\u001b[49m\u001b[43m,\u001b[49m\u001b[43m \u001b[49m\u001b[38;5;241;43m*\u001b[39;49m\u001b[38;5;241;43m*\u001b[39;49m\u001b[43minit_args\u001b[49m\u001b[43m)\u001b[49m\n\u001b[1;32m   1661\u001b[0m     atexit\u001b[38;5;241m.\u001b[39mregister(_module_cache\u001b[38;5;241m.\u001b[39m_on_atexit)\n\u001b[1;32m   1662\u001b[0m \u001b[38;5;28;01melif\u001b[39;00m init_args:\n",
      "File \u001b[0;32m~/miniconda3/envs/bayes_spec-dev/lib/python3.12/site-packages/pytensor/link/c/cmodule.py:745\u001b[0m, in \u001b[0;36mModuleCache.__init__\u001b[0;34m(self, dirname, check_for_broken_eq, do_refresh)\u001b[0m\n\u001b[1;32m    742\u001b[0m \u001b[38;5;28mself\u001b[39m\u001b[38;5;241m.\u001b[39mtime_spent_in_check_key \u001b[38;5;241m=\u001b[39m \u001b[38;5;241m0\u001b[39m\n\u001b[1;32m    744\u001b[0m \u001b[38;5;28;01mif\u001b[39;00m do_refresh:\n\u001b[0;32m--> 745\u001b[0m     \u001b[38;5;28;43mself\u001b[39;49m\u001b[38;5;241;43m.\u001b[39;49m\u001b[43mrefresh\u001b[49m\u001b[43m(\u001b[49m\u001b[43m)\u001b[49m\n",
      "File \u001b[0;32m~/miniconda3/envs/bayes_spec-dev/lib/python3.12/site-packages/pytensor/link/c/cmodule.py:875\u001b[0m, in \u001b[0;36mModuleCache.refresh\u001b[0;34m(self, age_thresh_use, delete_if_problem, cleanup)\u001b[0m\n\u001b[1;32m    873\u001b[0m \u001b[38;5;28;01mtry\u001b[39;00m:\n\u001b[1;32m    874\u001b[0m     \u001b[38;5;28;01mwith\u001b[39;00m \u001b[38;5;28mopen\u001b[39m(key_pkl, \u001b[38;5;124m\"\u001b[39m\u001b[38;5;124mrb\u001b[39m\u001b[38;5;124m\"\u001b[39m) \u001b[38;5;28;01mas\u001b[39;00m f:\n\u001b[0;32m--> 875\u001b[0m         key_data \u001b[38;5;241m=\u001b[39m \u001b[43mpickle\u001b[49m\u001b[38;5;241;43m.\u001b[39;49m\u001b[43mload\u001b[49m\u001b[43m(\u001b[49m\u001b[43mf\u001b[49m\u001b[43m)\u001b[49m\n\u001b[1;32m    876\u001b[0m \u001b[38;5;28;01mexcept\u001b[39;00m \u001b[38;5;167;01mEOFError\u001b[39;00m:\n\u001b[1;32m    877\u001b[0m     \u001b[38;5;66;03m# Happened once... not sure why (would be worth\u001b[39;00m\n\u001b[1;32m    878\u001b[0m     \u001b[38;5;66;03m# investigating if it ever happens again).\u001b[39;00m\n\u001b[1;32m    879\u001b[0m     unpickle_failure()\n",
      "File \u001b[0;32m~/miniconda3/envs/bayes_spec-dev/lib/python3.12/site-packages/pytensor/graph/utils.py:225\u001b[0m, in \u001b[0;36mMetaType.__new__.<locals>.__hash__\u001b[0;34m(self)\u001b[0m\n\u001b[1;32m    224\u001b[0m \u001b[38;5;28;01mdef\u001b[39;00m \u001b[38;5;21m__hash__\u001b[39m(\u001b[38;5;28mself\u001b[39m):\n\u001b[0;32m--> 225\u001b[0m     \u001b[38;5;28;01mreturn\u001b[39;00m \u001b[38;5;28;43mhash\u001b[39;49m\u001b[43m(\u001b[49m\u001b[43m(\u001b[49m\u001b[38;5;28;43mtype\u001b[39;49m\u001b[43m(\u001b[49m\u001b[38;5;28;43mself\u001b[39;49m\u001b[43m)\u001b[49m\u001b[43m,\u001b[49m\u001b[43m \u001b[49m\u001b[38;5;28;43mtuple\u001b[39;49m\u001b[43m(\u001b[49m\u001b[38;5;28;43mgetattr\u001b[39;49m\u001b[43m(\u001b[49m\u001b[38;5;28;43mself\u001b[39;49m\u001b[43m,\u001b[49m\u001b[43m \u001b[49m\u001b[43ma\u001b[49m\u001b[43m)\u001b[49m\u001b[43m \u001b[49m\u001b[38;5;28;43;01mfor\u001b[39;49;00m\u001b[43m \u001b[49m\u001b[43ma\u001b[49m\u001b[43m \u001b[49m\u001b[38;5;129;43;01min\u001b[39;49;00m\u001b[43m \u001b[49m\u001b[43mprops\u001b[49m\u001b[43m)\u001b[49m\u001b[43m)\u001b[49m\u001b[43m)\u001b[49m\n",
      "File \u001b[0;32m~/miniconda3/envs/bayes_spec-dev/lib/python3.12/site-packages/pytensor/scalar/basic.py:4164\u001b[0m, in \u001b[0;36mScalarInnerGraphOp.__hash__\u001b[0;34m(self)\u001b[0m\n\u001b[1;32m   4150\u001b[0m \u001b[38;5;28;01mdef\u001b[39;00m \u001b[38;5;21m__hash__\u001b[39m(\u001b[38;5;28mself\u001b[39m):\n\u001b[1;32m   4151\u001b[0m     \u001b[38;5;66;03m# Note that in general, the configparser settings at the time\u001b[39;00m\n\u001b[1;32m   4152\u001b[0m     \u001b[38;5;66;03m# of code generation (__init__) affect the semantics of this Op.\u001b[39;00m\n\u001b[0;32m   (...)\u001b[0m\n\u001b[1;32m   4162\u001b[0m     \u001b[38;5;66;03m# care about the exact form of the generated C code when comparing\u001b[39;00m\n\u001b[1;32m   4163\u001b[0m     \u001b[38;5;66;03m# `Op`s?  All this smells of leaky concerns and interfaces.\u001b[39;00m\n\u001b[0;32m-> 4164\u001b[0m     \u001b[38;5;28;01mreturn\u001b[39;00m \u001b[38;5;28mhash\u001b[39m((\u001b[38;5;28mtype\u001b[39m(\u001b[38;5;28mself\u001b[39m), \u001b[38;5;28mself\u001b[39m\u001b[38;5;241m.\u001b[39mnin, \u001b[38;5;28mself\u001b[39m\u001b[38;5;241m.\u001b[39mnout, \u001b[38;5;28;43mself\u001b[39;49m\u001b[38;5;241;43m.\u001b[39;49m\u001b[43mc_code_template\u001b[49m))\n",
      "File \u001b[0;32m~/miniconda3/envs/bayes_spec-dev/lib/python3.12/site-packages/pytensor/scalar/basic.py:4378\u001b[0m, in \u001b[0;36mComposite.c_code_template\u001b[0;34m(self)\u001b[0m\n\u001b[1;32m   4376\u001b[0m         subd[output] \u001b[38;5;241m=\u001b[39m name\n\u001b[1;32m   4377\u001b[0m         _c_code \u001b[38;5;241m+\u001b[39m\u001b[38;5;241m=\u001b[39m \u001b[38;5;124mf\u001b[39m\u001b[38;5;124m\"\u001b[39m\u001b[38;5;132;01m{\u001b[39;00moutput\u001b[38;5;241m.\u001b[39mtype\u001b[38;5;241m.\u001b[39mdtype_specs()[\u001b[38;5;241m1\u001b[39m]\u001b[38;5;132;01m}\u001b[39;00m\u001b[38;5;124m \u001b[39m\u001b[38;5;132;01m{\u001b[39;00mname\u001b[38;5;132;01m}\u001b[39;00m\u001b[38;5;124m;\u001b[39m\u001b[38;5;130;01m\\n\u001b[39;00m\u001b[38;5;124m\"\u001b[39m\n\u001b[0;32m-> 4378\u001b[0m s \u001b[38;5;241m=\u001b[39m \u001b[43mnode\u001b[49m\u001b[38;5;241;43m.\u001b[39;49m\u001b[43mop\u001b[49m\u001b[38;5;241;43m.\u001b[39;49m\u001b[43mc_code\u001b[49m\u001b[43m(\u001b[49m\n\u001b[1;32m   4379\u001b[0m \u001b[43m    \u001b[49m\u001b[43mnode\u001b[49m\u001b[43m,\u001b[49m\n\u001b[1;32m   4380\u001b[0m \u001b[43m    \u001b[49m\u001b[38;5;28;43mself\u001b[39;49m\u001b[38;5;241;43m.\u001b[39;49m\u001b[43mnodenames\u001b[49m\u001b[43m[\u001b[49m\u001b[43mj\u001b[49m\u001b[43m]\u001b[49m\u001b[43m,\u001b[49m\n\u001b[1;32m   4381\u001b[0m \u001b[43m    \u001b[49m\u001b[43m[\u001b[49m\u001b[43msubd\u001b[49m\u001b[43m[\u001b[49m\u001b[38;5;28;43minput\u001b[39;49m\u001b[43m]\u001b[49m\u001b[43m \u001b[49m\u001b[38;5;28;43;01mfor\u001b[39;49;00m\u001b[43m \u001b[49m\u001b[38;5;28;43minput\u001b[39;49m\u001b[43m \u001b[49m\u001b[38;5;129;43;01min\u001b[39;49;00m\u001b[43m \u001b[49m\u001b[43mnode\u001b[49m\u001b[38;5;241;43m.\u001b[39;49m\u001b[43minputs\u001b[49m\u001b[43m]\u001b[49m\u001b[43m,\u001b[49m\n\u001b[1;32m   4382\u001b[0m \u001b[43m    \u001b[49m\u001b[43m[\u001b[49m\u001b[43msubd\u001b[49m\u001b[43m[\u001b[49m\u001b[43moutput\u001b[49m\u001b[43m]\u001b[49m\u001b[43m \u001b[49m\u001b[38;5;28;43;01mfor\u001b[39;49;00m\u001b[43m \u001b[49m\u001b[43moutput\u001b[49m\u001b[43m \u001b[49m\u001b[38;5;129;43;01min\u001b[39;49;00m\u001b[43m \u001b[49m\u001b[43mnode\u001b[49m\u001b[38;5;241;43m.\u001b[39;49m\u001b[43moutputs\u001b[49m\u001b[43m]\u001b[49m\u001b[43m,\u001b[49m\n\u001b[1;32m   4383\u001b[0m \u001b[43m    \u001b[49m\u001b[38;5;28;43mdict\u001b[39;49m\u001b[43m(\u001b[49m\u001b[43mfail\u001b[49m\u001b[38;5;241;43m=\u001b[39;49m\u001b[38;5;124;43m\"\u001b[39;49m\u001b[38;5;132;43;01m%(fail)s\u001b[39;49;00m\u001b[38;5;124;43m\"\u001b[39;49m\u001b[43m,\u001b[49m\u001b[43m \u001b[49m\u001b[38;5;28;43mid\u001b[39;49m\u001b[38;5;241;43m=\u001b[39;49m\u001b[38;5;124;43mf\u001b[39;49m\u001b[38;5;124;43m\"\u001b[39;49m\u001b[38;5;124;43m%(id)s_\u001b[39;49m\u001b[38;5;132;43;01m{\u001b[39;49;00m\u001b[38;5;28;43mint\u001b[39;49m\u001b[43m(\u001b[49m\u001b[43mj\u001b[49m\u001b[43m)\u001b[49m\u001b[38;5;132;43;01m}\u001b[39;49;00m\u001b[38;5;124;43m\"\u001b[39;49m\u001b[43m)\u001b[49m\u001b[43m,\u001b[49m\n\u001b[1;32m   4384\u001b[0m \u001b[43m\u001b[49m\u001b[43m)\u001b[49m\n\u001b[1;32m   4385\u001b[0m _c_code \u001b[38;5;241m+\u001b[39m\u001b[38;5;241m=\u001b[39m s\n\u001b[1;32m   4386\u001b[0m _c_code \u001b[38;5;241m+\u001b[39m\u001b[38;5;241m=\u001b[39m \u001b[38;5;124m\"\u001b[39m\u001b[38;5;130;01m\\n\u001b[39;00m\u001b[38;5;124m\"\u001b[39m\n",
      "File \u001b[0;32m~/miniconda3/envs/bayes_spec-dev/lib/python3.12/site-packages/pytensor/scalar/basic.py:2011\u001b[0m, in \u001b[0;36mTrueDiv.c_code\u001b[0;34m(self, node, name, inputs, outputs, sub)\u001b[0m\n\u001b[1;32m   2009\u001b[0m (x, y) \u001b[38;5;241m=\u001b[39m inputs\n\u001b[1;32m   2010\u001b[0m (z,) \u001b[38;5;241m=\u001b[39m outputs\n\u001b[0;32m-> 2011\u001b[0m \u001b[38;5;28;01mif\u001b[39;00m node\u001b[38;5;241m.\u001b[39minputs[\u001b[38;5;241m0\u001b[39m]\u001b[38;5;241m.\u001b[39mtype \u001b[38;5;129;01min\u001b[39;00m complex_types \u001b[38;5;129;01mor\u001b[39;00m \u001b[43mnode\u001b[49m\u001b[38;5;241;43m.\u001b[39;49m\u001b[43minputs\u001b[49m\u001b[43m[\u001b[49m\u001b[38;5;241;43m1\u001b[39;49m\u001b[43m]\u001b[49m\u001b[38;5;241;43m.\u001b[39;49m\u001b[43mtype\u001b[49m\u001b[43m \u001b[49m\u001b[38;5;129;43;01min\u001b[39;49;00m\u001b[43m \u001b[49m\u001b[43mcomplex_types\u001b[49m:\n\u001b[1;32m   2012\u001b[0m     \u001b[38;5;28;01mraise\u001b[39;00m \u001b[38;5;167;01mNotImplementedError\u001b[39;00m(\u001b[38;5;124m\"\u001b[39m\u001b[38;5;124mtype not supported\u001b[39m\u001b[38;5;124m\"\u001b[39m, \u001b[38;5;28mtype\u001b[39m)\n\u001b[1;32m   2013\u001b[0m \u001b[38;5;28;01mif\u001b[39;00m (\n\u001b[1;32m   2014\u001b[0m     node\u001b[38;5;241m.\u001b[39minputs[\u001b[38;5;241m0\u001b[39m]\u001b[38;5;241m.\u001b[39mtype \u001b[38;5;129;01min\u001b[39;00m discrete_types\n\u001b[1;32m   2015\u001b[0m     \u001b[38;5;129;01mand\u001b[39;00m node\u001b[38;5;241m.\u001b[39minputs[\u001b[38;5;241m1\u001b[39m]\u001b[38;5;241m.\u001b[39mtype \u001b[38;5;129;01min\u001b[39;00m discrete_types\n\u001b[1;32m   2016\u001b[0m ):\n",
      "File \u001b[0;32m~/miniconda3/envs/bayes_spec-dev/lib/python3.12/site-packages/pytensor/graph/utils.py:232\u001b[0m, in \u001b[0;36mMetaType.__new__.<locals>.__eq__\u001b[0;34m(self, other)\u001b[0m\n\u001b[1;32m    231\u001b[0m \u001b[38;5;28;01mdef\u001b[39;00m \u001b[38;5;21m__eq__\u001b[39m(\u001b[38;5;28mself\u001b[39m, other):\n\u001b[0;32m--> 232\u001b[0m     \u001b[38;5;28;01mreturn\u001b[39;00m \u001b[38;5;28mtype\u001b[39m(\u001b[38;5;28mself\u001b[39m) \u001b[38;5;129;01mis\u001b[39;00m \u001b[38;5;28mtype\u001b[39m(other) \u001b[38;5;129;01mand\u001b[39;00m \u001b[38;5;28;43mtuple\u001b[39;49m\u001b[43m(\u001b[49m\n\u001b[1;32m    233\u001b[0m \u001b[43m        \u001b[49m\u001b[38;5;28;43mgetattr\u001b[39;49m\u001b[43m(\u001b[49m\u001b[38;5;28;43mself\u001b[39;49m\u001b[43m,\u001b[49m\u001b[43m \u001b[49m\u001b[43ma\u001b[49m\u001b[43m)\u001b[49m\u001b[43m \u001b[49m\u001b[38;5;28;43;01mfor\u001b[39;49;00m\u001b[43m \u001b[49m\u001b[43ma\u001b[49m\u001b[43m \u001b[49m\u001b[38;5;129;43;01min\u001b[39;49;00m\u001b[43m \u001b[49m\u001b[43mprops\u001b[49m\n\u001b[1;32m    234\u001b[0m \u001b[43m    \u001b[49m\u001b[43m)\u001b[49m \u001b[38;5;241m==\u001b[39m \u001b[38;5;28mtuple\u001b[39m(\u001b[38;5;28mgetattr\u001b[39m(other, a) \u001b[38;5;28;01mfor\u001b[39;00m a \u001b[38;5;129;01min\u001b[39;00m props)\n",
      "File \u001b[0;32m~/miniconda3/envs/bayes_spec-dev/lib/python3.12/site-packages/pytensor/graph/utils.py:232\u001b[0m, in \u001b[0;36m<genexpr>\u001b[0;34m(.0)\u001b[0m\n\u001b[1;32m    231\u001b[0m \u001b[38;5;28;01mdef\u001b[39;00m \u001b[38;5;21m__eq__\u001b[39m(\u001b[38;5;28mself\u001b[39m, other):\n\u001b[0;32m--> 232\u001b[0m     \u001b[38;5;28;01mreturn\u001b[39;00m \u001b[38;5;28mtype\u001b[39m(\u001b[38;5;28mself\u001b[39m) \u001b[38;5;129;01mis\u001b[39;00m \u001b[38;5;28mtype\u001b[39m(other) \u001b[38;5;129;01mand\u001b[39;00m \u001b[38;5;28mtuple\u001b[39m(\n\u001b[1;32m    233\u001b[0m         \u001b[38;5;28mgetattr\u001b[39m(\u001b[38;5;28mself\u001b[39m, a) \u001b[38;5;28;01mfor\u001b[39;00m a \u001b[38;5;129;01min\u001b[39;00m props\n\u001b[1;32m    234\u001b[0m     ) \u001b[38;5;241m==\u001b[39m \u001b[38;5;28mtuple\u001b[39m(\u001b[38;5;28mgetattr\u001b[39m(other, a) \u001b[38;5;28;01mfor\u001b[39;00m a \u001b[38;5;129;01min\u001b[39;00m props)\n",
      "\u001b[0;31mKeyboardInterrupt\u001b[0m: "
     ]
    }
   ],
   "source": [
    "from bayes_spec.models import GaussNoiseModel\n",
    "\n",
    "# Initialize and define the model\n",
    "model = GaussNoiseModel(dummy_data, n_clouds=3, baseline_degree=2, seed=1234, verbose=True)\n",
    "model.add_priors(\n",
    "    prior_line_area = 500.0, # mode of k=2 gamma distribution prior on line area (K km s-1)\n",
    "    prior_fwhm = 25.0, # mode of k=2 gamma distribution prior on FWHM line width (km s-1)\n",
    "    prior_velocity = [0.0, 50.0], # mean and width of normal distribution prior on centroid velocity (km s-1)\n",
    "    prior_baseline_coeffs = [1.0, 1.0, 1.0], # width of normal distribution prior on normalized baseline coefficients\n",
    "    prior_rms = 1.0, # width of half-normal distribution prior on spectral rms (K)\n",
    ")\n",
    "model.add_likelihood()\n",
    "\n",
    "sim_brightness = model.model.observation.eval({\n",
    "    \"fwhm\": [25.0, 40.0, 35.0], # FWHM line width (km/s)\n",
    "    \"line_area\": [250.0, 125.0, 175.0], # line area (K km/s)\n",
    "    \"velocity\": [-35.0, 10.0, 55.0], # velocity (km/s)\n",
    "    \"baseline_observation_norm\": [-0.5, -2.0, 3.0], # normalized baseline coefficients\n",
    "    \"rms_observation\": noise, # spectral rms (K)\n",
    "})\n",
    "\n",
    "# Plot the simulated data\n",
    "plt.plot(dummy_data[\"observation\"].spectral, sim_brightness, 'k-')\n",
    "plt.xlabel(dummy_data[\"observation\"].xlabel)\n",
    "_ = plt.ylabel(dummy_data[\"observation\"].ylabel)"
   ]
  },
  {
   "cell_type": "code",
   "execution_count": null,
   "id": "148b6d78",
   "metadata": {
    "ExecuteTime": {
     "end_time": "2024-08-05T19:58:50.547401Z",
     "start_time": "2024-08-05T19:58:50.544112Z"
    }
   },
   "outputs": [],
   "source": [
    "# Now we pack the simulated spectrum into a new SpecData instance\n",
    "observation = SpecData(\n",
    "    velocity_axis,\n",
    "    sim_brightness,\n",
    "    noise,\n",
    "    xlabel=r\"Velocity (km s$^{-1}$)\",\n",
    "    ylabel=\"Brightness Temperature (K)\",\n",
    ")\n",
    "data = {\"observation\": observation}"
   ]
  },
  {
   "cell_type": "markdown",
   "id": "4221bb69-9ae1-41c1-878c-719a255e837b",
   "metadata": {},
   "source": [
    "## Model\n",
    "\n",
    "Finally, with our model definition and (simulated) data in hand, we can explore the capabilities of `bayes_spec`.\n",
    "\n",
    "We begin with a three-cloud (`n_cloud=3`) model, with a 2nd order polynomial baseline (`baseline_degree=2`)."
   ]
  },
  {
   "cell_type": "code",
   "execution_count": null,
   "id": "519f9cf7-31f3-410b-84cf-51f8e4f5a4ed",
   "metadata": {
    "ExecuteTime": {
     "end_time": "2024-08-05T19:58:50.582808Z",
     "start_time": "2024-08-05T19:58:50.549276Z"
    }
   },
   "outputs": [],
   "source": [
    "model = GaussNoiseModel(data, n_clouds=3, baseline_degree=2, seed=123456, verbose=True)\n",
    "model.add_priors(\n",
    "    prior_line_area = 200.0, # mode of k=2 gamma distribution prior on line area (K km s-1)\n",
    "    prior_fwhm = 30.0, # mode of k=2 gamma distribution prior on FWHM line width (km s-1)\n",
    "    prior_velocity = [0.0, 50.0], # mean and width of normal distribution prior on centroid velocity (km s-1)\n",
    "    prior_baseline_coeffs = [1.0, 1.0, 1.0], # width of normal distribution prior on normalized baseline coefficients\n",
    "    prior_rms = 2.0, # width of half-normal distribution prior on spectral rms (K)\n",
    ")\n",
    "model.add_likelihood()"
   ]
  },
  {
   "cell_type": "code",
   "execution_count": null,
   "id": "89d44baa-5328-4b5b-9418-b76f53f5360d",
   "metadata": {
    "ExecuteTime": {
     "end_time": "2024-08-05T19:58:50.731043Z",
     "start_time": "2024-08-05T19:58:50.584380Z"
    },
    "scrolled": true
   },
   "outputs": [],
   "source": [
    "# Plot model graph\n",
    "model.graph()"
   ]
  },
  {
   "cell_type": "code",
   "execution_count": null,
   "id": "e6d2bdaf-5a3d-43ac-94c3-2131ad69478c",
   "metadata": {
    "ExecuteTime": {
     "end_time": "2024-08-05T19:58:53.089882Z",
     "start_time": "2024-08-05T19:58:50.732682Z"
    }
   },
   "outputs": [],
   "source": [
    "from bayes_spec.plots import plot_predictive\n",
    "\n",
    "# prior predictive check\n",
    "prior = model.sample_prior_predictive(\n",
    "    samples=100,  # prior predictive samples\n",
    ")\n",
    "_ = plot_predictive(model.data, prior.prior_predictive)"
   ]
  },
  {
   "cell_type": "code",
   "execution_count": null,
   "id": "d53dc077",
   "metadata": {},
   "outputs": [],
   "source": [
    "from bayes_spec.plots import plot_pair\n",
    "\n",
    "# available parameter attributes:\n",
    "print(\"baseline_freeRVs\", model.baseline_freeRVs)\n",
    "print(\"baseline_deterministics\", model.baseline_deterministics)\n",
    "print(\"cloud_freeRVs\", model.cloud_freeRVs)\n",
    "print(\"cloud_deterministics\", model.cloud_deterministics)\n",
    "print(\"hyper_freeRVs\", model.hyper_freeRVs)\n",
    "print(\"hyper_deterministics\", model.hyper_deterministics)\n",
    "\n",
    "var_names = model.cloud_deterministics\n",
    "_ = plot_pair(\n",
    "    prior.prior, # samples\n",
    "    var_names, # var_names to plot\n",
    "    labeller=model.labeller, # label manager\n",
    ")"
   ]
  },
  {
   "cell_type": "markdown",
   "id": "1c3019d0-c385-4476-ba18-d283b4a17b30",
   "metadata": {},
   "source": [
    "## Posterior Sampling: MCMC"
   ]
  },
  {
   "cell_type": "code",
   "execution_count": null,
   "id": "35da973e-b5cb-47b1-a318-240e48b2b4d6",
   "metadata": {
    "ExecuteTime": {
     "end_time": "2024-08-05T19:59:18.162581Z",
     "start_time": "2024-08-05T19:58:53.091651Z"
    }
   },
   "outputs": [],
   "source": [
    "model.sample(\n",
    "    init = \"advi+adapt_diag\", # initialization strategy\n",
    "    tune = 1000, # tuning samples\n",
    "    draws = 1000, # posterior samples\n",
    "    chains = 4, # number of independent chains\n",
    "    cores = 4, # number of parallel chains\n",
    "    init_kwargs = {\"rel_tolerance\": 0.01, \"abs_tolerance\": 0.1, \"learning_rate\": 1e-2}, # VI initialization arguments\n",
    "    nuts_kwargs = {\"target_accept\": 0.8}, # NUTS arguments\n",
    ")"
   ]
  },
  {
   "cell_type": "code",
   "execution_count": null,
   "id": "0c8472dd-9c5a-4255-a075-7c332611b3e3",
   "metadata": {
    "ExecuteTime": {
     "end_time": "2024-08-05T19:59:18.944502Z",
     "start_time": "2024-08-05T19:59:18.164833Z"
    }
   },
   "outputs": [],
   "source": [
    "model.solve(kl_div_threshold=0.1)"
   ]
  },
  {
   "cell_type": "code",
   "execution_count": null,
   "id": "f7792413-b639-4998-97ce-8e46c2d56a4b",
   "metadata": {
    "ExecuteTime": {
     "end_time": "2024-08-05T19:59:19.414204Z",
     "start_time": "2024-08-05T19:59:18.948235Z"
    },
    "scrolled": true
   },
   "outputs": [],
   "source": [
    "print(\"solutions:\", model.solutions)\n",
    "az.summary(model.trace[\"solution_0\"])\n",
    "# this also works: az.summary(model.trace.solution_0)"
   ]
  },
  {
   "cell_type": "code",
   "execution_count": null,
   "id": "79385a2f-eebc-4a3c-a797-ef5b4107c34f",
   "metadata": {
    "ExecuteTime": {
     "end_time": "2024-08-05T19:59:20.140819Z",
     "start_time": "2024-08-05T19:59:19.416074Z"
    }
   },
   "outputs": [],
   "source": [
    "posterior = model.sample_posterior_predictive(\n",
    "    thin=100, # keep one in {thin} posterior samples\n",
    ")\n",
    "_ = plot_predictive(model.data, posterior.posterior_predictive)"
   ]
  },
  {
   "cell_type": "code",
   "execution_count": null,
   "id": "52c1a48d-fba8-47c6-82a3-af6b32a74689",
   "metadata": {
    "ExecuteTime": {
     "end_time": "2024-08-05T19:59:21.131410Z",
     "start_time": "2024-08-05T19:59:20.142613Z"
    },
    "scrolled": true
   },
   "outputs": [],
   "source": [
    "from bayes_spec.plots import plot_traces\n",
    "\n",
    "_ = plot_traces(model.trace.solution_0, model.cloud_freeRVs + model.baseline_freeRVs + model.hyper_freeRVs)"
   ]
  },
  {
   "cell_type": "code",
   "execution_count": null,
   "id": "aaae6e7f",
   "metadata": {},
   "outputs": [],
   "source": []
  }
 ],
 "metadata": {
  "kernelspec": {
   "display_name": "Python 3 (ipykernel)",
   "language": "python",
   "name": "python3"
  },
  "language_info": {
   "codemirror_mode": {
    "name": "ipython",
    "version": 3
   },
   "file_extension": ".py",
   "mimetype": "text/x-python",
   "name": "python",
   "nbconvert_exporter": "python",
   "pygments_lexer": "ipython3",
   "version": "3.12.4"
  }
 },
 "nbformat": 4,
 "nbformat_minor": 5
}
